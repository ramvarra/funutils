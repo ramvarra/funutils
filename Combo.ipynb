{
 "cells": [
  {
   "cell_type": "code",
   "execution_count": 3,
   "metadata": {
    "collapsed": false
   },
   "outputs": [
    {
     "name": "stdout",
     "output_type": "stream",
     "text": [
      "Solution = 1,2,4,8,16\n",
      " 1 = 1\n",
      " 2 = 2\n",
      " 3 = 1+2\n",
      " 4 = 4\n",
      " 5 = 1+4\n",
      " 6 = 2+4\n",
      " 7 = 1+2+4\n",
      " 8 = 8\n",
      " 9 = 1+8\n",
      "10 = 2+8\n",
      "11 = 1+2+8\n",
      "12 = 4+8\n",
      "13 = 1+4+8\n",
      "14 = 2+4+8\n",
      "15 = 1+2+4+8\n",
      "16 = 16\n",
      "17 = 1+16\n",
      "18 = 2+16\n",
      "19 = 1+2+16\n",
      "20 = 4+16\n",
      "21 = 1+4+16\n",
      "22 = 2+4+16\n",
      "23 = 1+2+4+16\n",
      "24 = 8+16\n",
      "25 = 1+8+16\n",
      "26 = 2+8+16\n",
      "27 = 1+2+8+16\n",
      "28 = 4+8+16\n",
      "29 = 1+4+8+16\n",
      "30 = 2+4+8+16\n",
      "31 = 1+2+4+8+16\n"
     ]
    },
    {
     "data": {
      "text/plain": [
       "True"
      ]
     },
     "execution_count": 3,
     "metadata": {},
     "output_type": "execute_result"
    }
   ],
   "source": [
    "import itertools\n",
    "\n",
    "def test(s, n):\n",
    "    combos = dict()\n",
    "    for sn in range(1, len(s)+1):\n",
    "        for subl in itertools.combinations(s, sn):\n",
    "            total = sum(subl)\n",
    "            if total <= n and total not in combos:\n",
    "                combos[total] = list(subl)\n",
    "    if len(combos) == n:\n",
    "        return combos\n",
    "    return None\n",
    "\n",
    "def find_solution(R, N):\n",
    "    for solution in itertools.combinations(range(1, R + 1), N):\n",
    "        combos = test(solution, R)\n",
    "        if combos:\n",
    "            print(\"Solution = {}\".format(\",\".join(str(i) for i in solution)))\n",
    "            for k, v in combos.items():\n",
    "                print('{:2d} = {}'.format(k, '+'.join(str(i) for i in v)))\n",
    "            return True\n",
    "    else:\n",
    "        print ('Not Found')        \n",
    "        return False\n",
    "\n",
    "\n",
    "R = 31   # integer sequence size\n",
    "N = 5    # size of set needed to produce 1 .. R integers\n",
    "find_solution(R, N)\n"
   ]
  },
  {
   "cell_type": "code",
   "execution_count": 135,
   "metadata": {
    "collapsed": false
   },
   "outputs": [
    {
     "name": "stdout",
     "output_type": "stream",
     "text": [
      "(1, 2, 4, 8, 16)\n",
      " 1 = [1]\n",
      " 2 = [2]\n",
      " 3 = [1, 2]\n",
      " 4 = [4]\n",
      " 5 = [1, 4]\n",
      " 6 = [2, 4]\n",
      " 7 = [1, 2, 4]\n",
      " 8 = [8]\n",
      " 9 = [1, 8]\n",
      "10 = [2, 8]\n",
      "11 = [1, 2, 8]\n",
      "12 = [4, 8]\n",
      "13 = [1, 4, 8]\n",
      "14 = [2, 4, 8]\n",
      "15 = [1, 2, 4, 8]\n",
      "16 = [16]\n",
      "17 = [1, 16]\n",
      "18 = [2, 16]\n",
      "19 = [1, 2, 16]\n",
      "20 = [4, 16]\n",
      "21 = [1, 4, 16]\n",
      "22 = [2, 4, 16]\n",
      "23 = [1, 2, 4, 16]\n",
      "24 = [8, 16]\n",
      "25 = [1, 8, 16]\n",
      "26 = [2, 8, 16]\n",
      "27 = [1, 2, 8, 16]\n",
      "28 = [4, 8, 16]\n",
      "29 = [1, 4, 8, 16]\n",
      "30 = [2, 4, 8, 16]\n",
      "31 = [1, 2, 4, 8, 16]\n"
     ]
    }
   ],
   "source": []
  },
  {
   "cell_type": "code",
   "execution_count": 129,
   "metadata": {
    "collapsed": false
   },
   "outputs": [
    {
     "name": "stdout",
     "output_type": "stream",
     "text": [
      "Found:  (1, 2, 4, 8, 16)\n",
      "{1, 2, 3, 4, 5, 6, 7, 8, 9, 10, 11, 12, 13, 14, 15, 16, 17, 18, 19, 20, 21, 22, 23, 24, 25, 26, 27, 28, 29, 30, 31}\n"
     ]
    }
   ],
   "source": []
  },
  {
   "cell_type": "code",
   "execution_count": 120,
   "metadata": {
    "collapsed": false
   },
   "outputs": [
    {
     "name": "stdout",
     "output_type": "stream",
     "text": [
      "Found:  [1, 2, 4, 8, 16]\n"
     ]
    },
    {
     "data": {
      "text/plain": [
       "True"
      ]
     },
     "execution_count": 120,
     "metadata": {},
     "output_type": "execute_result"
    }
   ],
   "source": []
  },
  {
   "cell_type": "code",
   "execution_count": 113,
   "metadata": {
    "collapsed": false
   },
   "outputs": [
    {
     "data": {
      "text/plain": [
       "False"
      ]
     },
     "execution_count": 113,
     "metadata": {},
     "output_type": "execute_result"
    }
   ],
   "source": [
    "for "
   ]
  },
  {
   "cell_type": "code",
   "execution_count": null,
   "metadata": {
    "collapsed": true
   },
   "outputs": [],
   "source": []
  }
 ],
 "metadata": {
  "kernelspec": {
   "display_name": "Python 3",
   "language": "python",
   "name": "python3"
  },
  "language_info": {
   "codemirror_mode": {
    "name": "ipython",
    "version": 3
   },
   "file_extension": ".py",
   "mimetype": "text/x-python",
   "name": "python",
   "nbconvert_exporter": "python",
   "pygments_lexer": "ipython3",
   "version": "3.5.1"
  }
 },
 "nbformat": 4,
 "nbformat_minor": 0
}
